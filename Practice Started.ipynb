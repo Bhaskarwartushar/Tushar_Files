{
 "cells": [
  {
   "cell_type": "code",
   "execution_count": 1,
   "id": "eeeaf8ba",
   "metadata": {},
   "outputs": [],
   "source": [
    "s=\"asdasda\""
   ]
  },
  {
   "cell_type": "code",
   "execution_count": 3,
   "id": "eb77ebc0",
   "metadata": {},
   "outputs": [
    {
     "data": {
      "text/plain": [
       "'ASDASDA'"
      ]
     },
     "execution_count": 3,
     "metadata": {},
     "output_type": "execute_result"
    }
   ],
   "source": [
    "s.upper()"
   ]
  },
  {
   "cell_type": "code",
   "execution_count": 4,
   "id": "553e05e6",
   "metadata": {},
   "outputs": [
    {
     "data": {
      "text/plain": [
       "'ASDASDA'"
      ]
     },
     "execution_count": 4,
     "metadata": {},
     "output_type": "execute_result"
    }
   ],
   "source": [
    "s.swapcase()"
   ]
  },
  {
   "cell_type": "code",
   "execution_count": 10,
   "id": "c4cb238b",
   "metadata": {},
   "outputs": [
    {
     "data": {
      "text/plain": [
       "'ineu  ron'"
      ]
     },
     "execution_count": 10,
     "metadata": {},
     "output_type": "execute_result"
    }
   ],
   "source": [
    "s=\"    ineu  ron    \"\n",
    "s.strip()"
   ]
  },
  {
   "cell_type": "code",
   "execution_count": 11,
   "id": "564123ef",
   "metadata": {},
   "outputs": [
    {
     "data": {
      "text/plain": [
       "'ineu  ron    '"
      ]
     },
     "execution_count": 11,
     "metadata": {},
     "output_type": "execute_result"
    }
   ],
   "source": [
    "s.lstrip()"
   ]
  },
  {
   "cell_type": "code",
   "execution_count": 21,
   "id": "0c359b3f",
   "metadata": {},
   "outputs": [],
   "source": [
    "s=\"tu sh\""
   ]
  },
  {
   "cell_type": "code",
   "execution_count": 13,
   "id": "5a088b72",
   "metadata": {},
   "outputs": [
    {
     "data": {
      "text/plain": [
       "'Tdsh'"
      ]
     },
     "execution_count": 13,
     "metadata": {},
     "output_type": "execute_result"
    }
   ],
   "source": [
    "s.replace(\"u\",\"d\")"
   ]
  },
  {
   "cell_type": "code",
   "execution_count": 18,
   "id": "b171fc69",
   "metadata": {},
   "outputs": [
    {
     "data": {
      "text/plain": [
       "True"
      ]
     },
     "execution_count": 18,
     "metadata": {},
     "output_type": "execute_result"
    }
   ],
   "source": [
    "s.islower()"
   ]
  },
  {
   "cell_type": "code",
   "execution_count": 22,
   "id": "83d21cfd",
   "metadata": {},
   "outputs": [
    {
     "data": {
      "text/plain": [
       "False"
      ]
     },
     "execution_count": 22,
     "metadata": {},
     "output_type": "execute_result"
    }
   ],
   "source": [
    "s.isspace()"
   ]
  },
  {
   "cell_type": "code",
   "execution_count": 23,
   "id": "5ab64aa6",
   "metadata": {},
   "outputs": [],
   "source": [
    "s=\" \""
   ]
  },
  {
   "cell_type": "code",
   "execution_count": 24,
   "id": "07ad9f92",
   "metadata": {},
   "outputs": [
    {
     "data": {
      "text/plain": [
       "True"
      ]
     },
     "execution_count": 24,
     "metadata": {},
     "output_type": "execute_result"
    }
   ],
   "source": [
    "s.isspace()"
   ]
  },
  {
   "cell_type": "code",
   "execution_count": 28,
   "id": "e1fd1405",
   "metadata": {},
   "outputs": [],
   "source": [
    "r=\"my name is Tush\""
   ]
  },
  {
   "cell_type": "code",
   "execution_count": 30,
   "id": "2b0768e4",
   "metadata": {},
   "outputs": [
    {
     "ename": "IndentationError",
     "evalue": "expected an indented block (<ipython-input-30-a13d81b42fa9>, line 3)",
     "output_type": "error",
     "traceback": [
      "\u001b[1;36m  File \u001b[1;32m\"<ipython-input-30-a13d81b42fa9>\"\u001b[1;36m, line \u001b[1;32m3\u001b[0m\n\u001b[1;33m    print(i)\u001b[0m\n\u001b[1;37m    ^\u001b[0m\n\u001b[1;31mIndentationError\u001b[0m\u001b[1;31m:\u001b[0m expected an indented block\n"
     ]
    }
   ],
   "source": [
    "for i in r :\n",
    "\n",
    "print(i)"
   ]
  },
  {
   "cell_type": "code",
   "execution_count": null,
   "id": "4dc2af04",
   "metadata": {},
   "outputs": [],
   "source": []
  }
 ],
 "metadata": {
  "kernelspec": {
   "display_name": "Python 3",
   "language": "python",
   "name": "python3"
  },
  "language_info": {
   "codemirror_mode": {
    "name": "ipython",
    "version": 3
   },
   "file_extension": ".py",
   "mimetype": "text/x-python",
   "name": "python",
   "nbconvert_exporter": "python",
   "pygments_lexer": "ipython3",
   "version": "3.8.8"
  }
 },
 "nbformat": 4,
 "nbformat_minor": 5
}
